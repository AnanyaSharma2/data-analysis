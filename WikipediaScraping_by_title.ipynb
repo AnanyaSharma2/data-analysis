{
  "nbformat": 4,
  "nbformat_minor": 0,
  "metadata": {
    "colab": {
      "provenance": [],
      "authorship_tag": "ABX9TyOkqUkYXfi96+EbOy/ZXjZq",
      "include_colab_link": true
    },
    "kernelspec": {
      "name": "python3",
      "display_name": "Python 3"
    },
    "language_info": {
      "name": "python"
    }
  },
  "cells": [
    {
      "cell_type": "markdown",
      "metadata": {
        "id": "view-in-github",
        "colab_type": "text"
      },
      "source": [
        "<a href=\"https://colab.research.google.com/github/AnanyaSharma2/data-analysis/blob/main/WikipediaScraping_by_title.ipynb\" target=\"_parent\"><img src=\"https://colab.research.google.com/assets/colab-badge.svg\" alt=\"Open In Colab\"/></a>"
      ]
    },
    {
      "cell_type": "code",
      "execution_count": 88,
      "metadata": {
        "id": "5I7EfTbjLNVy"
      },
      "outputs": [],
      "source": [
        "import requests as r\n",
        "import pandas as pd\n",
        "from tqdm import tqdm\n",
        "from bs4 import BeautifulSoup as b"
      ]
    },
    {
      "cell_type": "markdown",
      "source": [
        "### **Extracting the wikipedia link from the google page**"
      ],
      "metadata": {
        "id": "9QFRLY-cV7ji"
      }
    },
    {
      "cell_type": "code",
      "source": [
        "title = str(input(\"Enter the data you want to search  \")).replace(' ','+')\n",
        "link = 'https://www.google.com/search?q=' + title + '+wikipedia'\n",
        "response = r.get(link)\n",
        "soup = b(response.text,'html.parser')\n",
        "\n",
        "for sp in soup.find_all('div'):\n",
        "  try:\n",
        "    link = sp.find('a').get('href')\n",
        "    if ('en.wikipedia.org' in link):\n",
        "       break\n",
        "  except:\n",
        "    pass"
      ],
      "metadata": {
        "colab": {
          "base_uri": "https://localhost:8080/"
        },
        "id": "hjFIM4-oLVzN",
        "outputId": "e70a12ae-7f07-45ec-f17b-1cd2a382088f"
      },
      "execution_count": 89,
      "outputs": [
        {
          "name": "stdout",
          "output_type": "stream",
          "text": [
            "Enter the data you want to search  Subhash Chander Bose\n"
          ]
        }
      ]
    },
    {
      "cell_type": "markdown",
      "source": [
        "### **Printing the link**"
      ],
      "metadata": {
        "id": "rSgG0aVUWHwV"
      }
    },
    {
      "cell_type": "code",
      "source": [
        "print(link)"
      ],
      "metadata": {
        "colab": {
          "base_uri": "https://localhost:8080/"
        },
        "id": "6UX7lICuLrZq",
        "outputId": "3894f457-5953-48e1-a937-ec7f806e1932"
      },
      "execution_count": 90,
      "outputs": [
        {
          "output_type": "stream",
          "name": "stdout",
          "text": [
            "/url?q=https://en.wikipedia.org/wiki/Subhas_Chandra_Bose&sa=U&ved=2ahUKEwiI153en5SEAxVOm2oFHRBOBuIQFnoECAsQAg&usg=AOvVaw3hzXvo8Jx6R37aHoFp-53f\n"
          ]
        }
      ]
    },
    {
      "cell_type": "markdown",
      "source": [
        "### **Extracting the actual link**"
      ],
      "metadata": {
        "id": "1x8-P48KWNam"
      }
    },
    {
      "cell_type": "code",
      "source": [
        "print(link[7:])"
      ],
      "metadata": {
        "colab": {
          "base_uri": "https://localhost:8080/"
        },
        "id": "sdYO6_KgM_D6",
        "outputId": "e69d1108-7c92-41dc-aebc-27756ce07371"
      },
      "execution_count": 91,
      "outputs": [
        {
          "output_type": "stream",
          "name": "stdout",
          "text": [
            "https://en.wikipedia.org/wiki/Subhas_Chandra_Bose&sa=U&ved=2ahUKEwiI153en5SEAxVOm2oFHRBOBuIQFnoECAsQAg&usg=AOvVaw3hzXvo8Jx6R37aHoFp-53f\n"
          ]
        }
      ]
    },
    {
      "cell_type": "code",
      "source": [
        "link[7:].split('&')"
      ],
      "metadata": {
        "colab": {
          "base_uri": "https://localhost:8080/"
        },
        "id": "UsjDnoBcNMHK",
        "outputId": "37408f19-19ce-4068-f04b-d935c21c67eb"
      },
      "execution_count": 92,
      "outputs": [
        {
          "output_type": "execute_result",
          "data": {
            "text/plain": [
              "['https://en.wikipedia.org/wiki/Subhas_Chandra_Bose',\n",
              " 'sa=U',\n",
              " 'ved=2ahUKEwiI153en5SEAxVOm2oFHRBOBuIQFnoECAsQAg',\n",
              " 'usg=AOvVaw3hzXvo8Jx6R37aHoFp-53f']"
            ]
          },
          "metadata": {},
          "execution_count": 92
        }
      ]
    },
    {
      "cell_type": "code",
      "source": [
        "print(link[7:].split('&')[0])"
      ],
      "metadata": {
        "colab": {
          "base_uri": "https://localhost:8080/"
        },
        "id": "v-MRZFCKNT8U",
        "outputId": "c0ca49df-30d1-4de6-9a1a-c12b155a99eb"
      },
      "execution_count": 93,
      "outputs": [
        {
          "output_type": "stream",
          "name": "stdout",
          "text": [
            "https://en.wikipedia.org/wiki/Subhas_Chandra_Bose\n"
          ]
        }
      ]
    },
    {
      "cell_type": "code",
      "source": [
        "link = link[7:].split('&')[0]"
      ],
      "metadata": {
        "id": "o9FU-h3nOIii"
      },
      "execution_count": 94,
      "outputs": []
    },
    {
      "cell_type": "code",
      "source": [
        "res = r.get(link)\n",
        "soup = b(res.text,'html.parser')\n",
        "corpus =''\n",
        "for paragraph in soup.find_all('p'):\n",
        "    corpus+= paragraph.text\n",
        "    corpus+='\\n'"
      ],
      "metadata": {
        "id": "L1YWbN_tMUmx"
      },
      "execution_count": 95,
      "outputs": []
    },
    {
      "cell_type": "code",
      "source": [
        "print(corpus)"
      ],
      "metadata": {
        "colab": {
          "base_uri": "https://localhost:8080/"
        },
        "id": "_jte4djkNwJy",
        "outputId": "9e1a0024-1a9f-4b8b-aac9-744d1cedda74"
      },
      "execution_count": 96,
      "outputs": [
        {
          "output_type": "stream",
          "name": "stdout",
          "text": [
            "\n",
            "\n",
            "Subhas Chandra Bose (/ʃʊbˈhɑːs ˈtʃʌndrə ˈboʊs/ ⓘ shuub-HAHSS CHUN-drə BOHSS;[12] 23 January 1897 – 18 August 1945) was an Indian nationalist whose defiance of British authority in India made him a hero among many Indians, but his wartime alliances with Nazi Germany and Imperial Japan left a legacy vexed by authoritarianism, anti-Semitism, and military failure. The honorific Netaji (Bengali: \"Respected Leader\") was first applied to Bose in Germany in early 1942—by the Indian soldiers of the Indische Legion and by the German and Indian officials in the Special Bureau for India in Berlin. It is now used throughout India.[h]\n",
            "\n",
            "Subhas Bose was born into wealth and privilege in a large Bengali family in Orissa during the British Raj. The early recipient of an Anglocentric education, he was sent after college to England to take the Indian Civil Service examination. He succeeded with distinction in the vital first exam but demurred at taking the routine final exam, citing nationalism as a higher calling. Returning to India in 1921, Bose joined the nationalist movement led by Mahatma Gandhi and the Indian National Congress. He followed Jawaharlal Nehru to leadership in a group within the Congress which was less keen on constitutional reform and more open to socialism.[i] Bose became Congress president in 1938. After reelection in 1939, differences arose between him and the Congress leaders, including Gandhi, over the future federation of British India and princely states, but also because discomfort had grown among the Congress leadership over Bose's negotiable attitude to non-violence, and his plans for greater powers for himself.[15] After the large majority of the Congress Working Committee members resigned in protest,[16] Bose resigned as president and was eventually ousted from the party.[17][18]\n",
            "\n",
            "In April 1941 Bose arrived in Nazi Germany, where the leadership offered unexpected but equivocal sympathy for India's independence.[19][20] German funds were employed to open a Free India Centre in Berlin. A 3,000-strong Free India Legion was recruited from among Indian POWs captured by Erwin Rommel's Afrika Korps to serve under Bose.[21][j] Although peripheral to their main goals, the Germans inconclusively considered a land invasion of India throughout 1941. By the spring of 1942, the German army was mired in Russia and Bose became keen to move to southeast Asia, where Japan had just won quick victories.[23] Adolf Hitler during his only meeting with Bose in late May 1942 offered to arrange a submarine.[24] During this time, Bose became a father; his wife,[6][k] or companion,[25][l] Emilie Schenkl, gave birth to a baby girl.[6][m][19] Identifying strongly with the Axis powers, Bose boarded a German submarine in February 1943.[26][27] Off Madagascar, he was transferred to a Japanese submarine from which he disembarked in Japanese-held Sumatra in May 1943.[26]\n",
            "\n",
            "With Japanese support, Bose revamped the Indian National Army (INA), which comprised Indian prisoners of war of the British Indian army who had been captured by the Japanese in the Battle of Singapore.[28][29][30] A Provisional Government of Free India was declared on the Japanese-occupied Andaman and Nicobar Islands and was nominally presided by Bose.[31][2][n] Although Bose was unusually driven and charismatic, the Japanese considered him to be militarily unskilled,[o] and his soldierly effort was short-lived. In late 1944 and early 1945, the British Indian Army reversed the Japanese attack on India. Almost half of the Japanese forces and fully half of the participating INA contingent were killed.[p][q] The remaining INA was driven down the Malay Peninsula and surrendered with the recapture of Singapore. Bose chose to escape to Manchuria to seek a future in the Soviet Union which he believed to have turned anti-British. He died from third-degree burns received when his overloaded plane crashed in Japanese Taiwan on August 18, 1945.[r] Some Indians did not believe that the crash had occurred,[s] expecting Bose to return to secure India's independence.[t][u][v] The Indian National Congress, the main instrument of Indian nationalism, praised Bose's patriotism but distanced itself from his tactics and ideology.[w][41] The British Raj, never seriously threatened by the INA, charged 300 INA officers with treason in the INA trials, but eventually backtracked in the face of opposition by the Congress,[x] and a new mood in Britain for rapid decolonisation in India.[y][41][44]\n",
            "\n",
            "Bose's legacy is mixed. Among many in India, he is seen as a hero, his saga serving as a would-be counterpoise to the many actions of regeneration, negotiation, and reconciliation over a quarter-century through which the independence of India was achieved.[z][aa][ab] His collaborations with Japanese Fascism and Nazism pose serious ethical dilemmas,[ac] especially his reluctance to publicly criticize the worst excesses of German anti-Semitism from 1938 onwards or to offer refuge in India to its victims.[ad][ae][af]\n",
            "\n",
            "Subhas Chandra Bose was born to Bengali parents Prabhavati Bose (née Dutt) and Janakinath Bose on 23 January 1897 in Cuttack—in what is today the state of Odisha in India, but was then part of the Bengal Presidency in British India.[ag][ah] Prabhavati, or familiarly Mā jananī (lit. 'mother'), the anchor of family life, had her first child at age 14 and 13 children thereafter. Subhas was the ninth child and the sixth son.[54] Jankinath, a successful lawyer and government pleader,[53] was loyal to the government of British India and scrupulous about matters of language and the law. A self-made man from the rural outskirts of Calcutta, he had remained in touch with his roots, returning annually to his village during the pooja holidays.[55]\n",
            "\n",
            "Eager to join his five school-going older brothers, Subhas entered the Baptist Mission's Protestant European School in Cuttack in January 1902.[7] English was the medium of all instruction in the school, the majority of the students being European or Anglo-Indians of mixed British and Indian ancestry.[52] The curriculum included English—correctly written and spoken—Latin, the Bible, good manners, British geography, and British History; no Indian languages were taught.[52][7] The choice of the school was Janakinath's, who wanted his sons to speak flawless English with flawless intonation, believing both to be important for access to the British in India.[56] The school contrasted with Subhas's home, where only Bengali was spoken. At home, his mother worshipped the Hindu goddesses Durga and Kali, told stories from the epics Mahabharata and Ramayana, and sang Bengali religious songs.[7] From her, Subhas imbibed a nurturing spirit, looking for situations in which to help people in distress, preferring gardening around the house to joining in sports with other boys.[8] His father, who was reserved in manner and busy with professional life, was a distant presence in a large family, causing Subhas to feel he had a nondescript childhood.[57] Still, Janakinath read English literature avidly—John Milton, William Cowper, Matthew Arnold, and Shakespeare's Hamlet being among his favourites; several of his sons were to become English literature enthusiasts like him.[56]\n",
            "\n",
            "In 1909 the 12-year-old Subhas Bose followed his five brothers to the Ravenshaw Collegiate School in Cuttack.[8] Here, Bengali and Sanskrit were also taught, as were ideas from Hindu scriptures such as the Vedas and the Upanishads not usually picked up at home.[8] Although his western education continued apace, he began to wear Indian clothes and engage in religious speculation. To his mother, he wrote long letters which displayed acquaintance with the ideas of the Bengali mystic Ramakrishna Paramahamsa and his disciple Swami Vivekananda, and the novel Ananda Math by Bankim Chandra Chatterjee, popular then among young Hindu men.[59] Despite the preoccupation, Subhas was able to demonstrate an ability when needed to focus on his studies, to compete, and to succeed in exams. In 1912, he secured the second position in the matriculation examination conducted under the auspices of the University of Calcutta.[60]\n",
            "\n",
            "Subhas Bose followed his five brothers again 1913 to Presidency College, Calcutta, the historic and traditional college for Bengal's upper-caste Hindu men.[60][61] He chose to study philosophy, his readings including Kant, Hegel, Bergson and other Western philosophers.[62] A year earlier, he had befriended Hemanta Kumar Sarkar, a confidant and partner in religious yearnings.[63] At Presidency, their emotional ties grew stronger.[63] In the fanciful language of religious imagery, they declared their pure love for each other.[63] In the long vacations of 1914, they traveled to northern India for several months to search for a spiritual guru to guide them.[63] Subhas's family was not told clearly about the trip, leading them to think he had run away. During the trip, in which the guru proved elusive, Subhas came down with typhoid fever.[63] His absence caused emotional distress to his parents, leading both parents to break down upon his return.[63] Heated words were exchanged between Janakinath and Subhas. It took the return of Subhas's favorite brother, Sarat Chandra Bose, from law studies in England for the tempers to subside. Subhas returned to presidency and busied himself with studies, debating and student journalism.[63]\n",
            "\n",
            "In February 1916 Bose was alleged to have masterminded,[53] or participated in, an incident involving E. F. Oaten, Professor of History at Presidency.[9] Before the incident, it was claimed by the students, Oaten had made rude remarks about Indian culture, and collared and pushed some students; according to Oaten, the students were making an unacceptably loud noise just outside his class.[9] A few days later, on 15 February, some students accosted Oaten on a stairway, surrounded him, beat him with sandals, and took to flight.[9] An inquiry committee was constituted. Although Oaten, who was unhurt, could not identify his assailants, a college servant testified to seeing Subhas Bose among those fleeing, confirming for the authorities what they had determined to be the rumor among the students.[9] Bose was expelled from the college and rusticated from University of Calcutta.[64] The incident shocked Calcutta and caused anguish to Bose's family.[53] He was ordered back to Cuttack. His family's connections were employed to pressure Asutosh Mukherjee, the Vice-Chancellor of Calcutta University.[64] Despite this, Subhas Bose's expulsion remained in place until 20 July 1917, when the Syndicate of Calcutta University granted him permission to return, but to another college.[10] He joined Scottish Church College, receiving his B.A. in 1918 in the First Class with honours in philosophy, placing second among all philosophy students in Calcutta University.[65]\n",
            "\n",
            "At his father's urging, Subhas Bose agreed to travel to England to prepare and appear for the Indian Civil Services (ICS) examination.[66] Arriving in London on 20 October 1919, Subhas readied his application for the ICS.[67] For his references he put down Lord Sinha of Raipur, Under Secretary of State for India, and Bhupendranath Basu, a wealthy Calcutta lawyer who sat on the Council of India in London.[66] Bose was eager also to gain admission to a college at the University of Cambridge.[68] It was past the deadline for admission.[68] He sought help from some Indian students and from the Non-Collegiate Students Board. The Board offered the university's education at an economical cost without formal admission to a college. Bose entered the register of the university on 19 November 1919 and simultaneously set about preparing for the Civil Service exams.[68] He chose the Mental and Moral Sciences Tripos at Cambridge,[68] its completion requirement reduced to two years on account of his Indian B. A.[69]\n",
            "\n",
            "\n",
            "There were six vacancies in the ICS.[70] Subhas Bose took the open competitive exam for them in August 1920 and was placed fourth.[70] This was a vital first step.[70] Still remaining was a final examination in 1921 on more topics on India, including the Indian Penal Code, the Indian Evidence Act, Indian history, and an Indian language.[70] Successful candidates had also to clear a riding test. Having no fear of these subjects and being a rider, Subhas Bose felt the ICS was within easy reach.[70] Yet between August 1920 and 1921 he began to have doubts about taking the final examination.[71] Many letters were exchanged with his father and his brother Sarat Chandra Bose back in Calcutta.[72] In one letter to Sarat, Subhas wrote, \n",
            "\"But for a man of my temperament who has been feeding on ideas that might be called eccentric—the line of least resistance is not the best line to follow ... The uncertainties of life are not appalling to one who has not, at heart, worldly ambitions. Moreover, it is not possible to serve one's country in the best and fullest manner if one is chained on to the civil service.\"[72]\n",
            " In April 1921, Subhas Bose made his decision firm not to take the final examination for the ICS and wrote to Sarat informing him of the same, apologizing for the pain he would cause to his father, his mother, and other members of his family.[73] On 22 April 1921, he wrote to the Secretary of State for India, Edwin Montagu, stating, \"I wish to have my name removed from the list of probationers in the Indian Civil Service.\"[74] The following day he wrote again to Sarat:\n",
            "I received a letter from mother saying that in spite of what father and others think she prefers the ideals for which Mahatma Gandhi stands. I cannot tell you how happy I have been to receive such a letter. It will be worth a treasure for me as it has removed something like a burden from my mind.\"[75]\n",
            "For some time before Subhas Bose had been in touch with C. R. Das, a lawyer who had risen to the helm of politics in Bengal; Das encouraged Subhas to return to Calcutta.[76] With the ICS decision now firmly behind him, Subhas Bose took his Cambridge B.A. Final examinations half-heartedly, passing, but being placed in the Third Class.[75] He prepared to sail for India in June 1921, electing for a fellow Indian student to pick up his diploma.[76]\n",
            "\n",
            "Subhas Bose, aged 24, arrived ashore in India at Bombay on the morning of 16 July 1921 and immediately set about arranging an interview with Mahatma Gandhi. Gandhi, aged 51, was the leader of the non-cooperation movement that had taken India by storm the previous year and in a quarter-century would evolve to secure its independence.[ai][aj] Gandhi happened to be in Bombay and agreed to see Bose that afternoon. In Bose's account of the meeting, written many years later, he pilloried Gandhi with question after question.[78] Bose thought Gandhi's answers were vague, his goals unclear, his plan for achieving them not thought through.[78] Gandhi and Bose differed in this first meeting on the question of means—for Gandhi non-violent means to any end were non-negotiable; in Bose's thought, all means were acceptable in the service of anti-colonial ends.[78] They differed on the question of ends—Bose was attracted to totalitarian models of governance, which were anathematized by Gandhi.[79] According to historian Gordon, \"Gandhi, however, set Bose on to the leader of the Congress and Indian nationalism in Bengal, C. R. Das, and in him Bose found the leader whom he sought.\"[78] Das was more flexible than Gandhi, more sympathetic to the extremism that had attracted idealistic young men such as Bose in Bengal.[78] Das launched Bose into nationalist politics.[78] Bose would work within the ambit of the Indian National Congress politics for nearly 20 years even as he tried to change its course.[78]\n",
            "\n",
            "In 1922 Bose founded the newspaper Swaraj and assumed charge of the publicity for the Bengal Provincial Congress Committee.[80] His mentor was Chittaranjan Das, a voice for aggressive nationalism in Bengal. In 1923, Bose was elected the President of Indian Youth Congress and also the Secretary of the Bengal State Congress. He became the editor of the newspaper \"Forward\", which had been founded by Chittaranjan Das.[81] Bose worked as the CEO of the Calcutta Municipal Corporation for Das when the latter was elected mayor of Calcutta in 1924.[82] During the same year, when Bose was leading a protest march in Calcutta, he, Maghfoor Ahmad Ajazi and other leaders were arrested and imprisoned.[83][failed verification] After a roundup of nationalists in 1925, Bose was sent to prison in Mandalay, British Burma, where he contracted tuberculosis.[84]\n",
            "\n",
            "\n",
            "In 1927, after being released from prison, Bose became general secretary of the Congress party and worked with Jawaharlal Nehru for independence. In late December 1928, Bose organised the Annual Meeting of the Indian National Congress in Calcutta.[85] His most memorable role was as General officer commanding (GOC) Congress Volunteer Corps.[85] Author Nirad Chaudhuri wrote about the meeting: \n",
            "Bose organized a volunteer corps in uniform, its officers were even provided with steel-cut epaulettes ... his uniform was made by a firm of British tailors in Calcutta, Harman's. A telegram addressed to him as GOC was delivered to the British General in Fort William and was the subject of a good deal of malicious gossip in the (British Indian) press. Mahatma Gandhi as a sincere pacifist vowed to non-violence, did not like the strutting, clicking of boots, and saluting, and he afterward described the Calcutta session of the Congress as a Bertram Mills circus, which caused a great deal of indignation among the Bengalis.[85]\n",
            "A little later, Bose was again arrested and jailed for civil disobedience; this time he emerged to become Mayor of Calcutta in 1930.[84]\n",
            "\n",
            "During the mid-1930s Bose travelled in Europe, visiting Indian students and European politicians, including Benito Mussolini. He observed party organisation and saw communism and fascism in action.[86] In this period, he also researched and wrote the first part of his book The Indian Struggle, which covered the country's independence movement in the years 1920–1934. Although it was published in London in 1935, the British government banned the book in the colony out of fears that it would encourage unrest.[87] Bose was supported in Europe by the Indian Central European Society organized by Otto Faltis from Vienna.[88]\n",
            "\n",
            "In 1938 Bose stated his opinion that the INC \"should be organised on the broadest anti-imperialist front with the two-fold objective of winning political freedom and the establishment of a socialist regime.\"[89] By 1938 Bose had become a leader of national stature and agreed to accept nomination as Congress President. He stood for unqualified Swaraj (self-governance), including the use of force against the British. This meant a confrontation with Mohandas Gandhi, who in fact opposed Bose's presidency,[90] splitting the Indian National Congress party.\n",
            "\n",
            "Bose attempted to maintain unity, but Gandhi advised Bose to form his own cabinet. The rift also divided Bose and Nehru; he appeared at the 1939 Congress meeting on a stretcher. He was elected president again over Gandhi's preferred candidate Pattabhi Sitaramayya.[93] U. Muthuramalingam Thevar strongly supported Bose in the intra-Congress dispute. Thevar mobilised all south India votes for Bose.[94] However, due to the manoeuvrings of the Gandhi-led clique in the Congress Working Committee, Bose found himself forced to resign from the Congress presidency.[citation needed]\n",
            "\n",
            "On 22 June 1939 Bose organised the All India Forward Bloc a faction within the Indian National Congress,[95] aimed at consolidating the political left, but its main strength was in his home state, Bengal. U Muthuramalingam Thevar, who was a staunch supporter of Bose from the beginning, joined the Forward Bloc. When Bose visited Madurai on 6 September, Thevar organised a massive rally as his reception.[citation needed]\n",
            "\n",
            "When Subhas Chandra Bose was heading to Madurai, on an invitation of Muthuramalinga Thevar to amass support for the Forward Bloc, he passed through Madras and spent three days at Gandhi Peak.\n",
            "His correspondence reveals that despite his clear dislike for British subjugation, he was deeply impressed by their methodical and systematic approach and their steadfastly disciplinarian outlook towards life. In England, he exchanged ideas on the future of India with British Labour Party leaders and political thinkers like Lord Halifax, George Lansbury, Clement Attlee, Arthur Greenwood, Harold Laski, J.B.S. Haldane, Ivor Jennings, G.D.H. Cole, Gilbert Murray and Sir Stafford Cripps.[citation needed]\n",
            "\n",
            "He came to believe that an independent India needed socialist authoritarianism, on the lines of Turkey's Kemal Atatürk, for at least two decades. For political reasons Bose was refused permission by the British authorities to meet Atatürk at Ankara. During his sojourn in England Bose tried to schedule appointments with several politicians, but only the Labour Party and Liberal politicians agreed to meet with him. Conservative Party officials refused to meet him or show him courtesy because he was a politician coming from a colony. In the 1930s leading figures in the Conservative Party had opposed even Dominion status for India. It was during the Labour Party government of 1945–1951, with Attlee as the Prime Minister, that India gained independence.\n",
            "\n",
            "On the outbreak of war, Bose advocated a campaign of mass civil disobedience to protest against Viceroy Lord Linlithgow's decision to declare war on India's behalf without consulting the Congress leadership. Having failed to persuade Gandhi of the necessity of this, Bose organised mass protests in Calcutta calling for the removal of the \"Holwell Monument\", which then stood at the corner of Dalhousie Square in memoriam of those who died in the Black Hole of Calcutta.[96] He was thrown in jail by the British, but was released following a seven-day hunger strike. Bose's house in Calcutta was kept under surveillance by the CID.[97]\n",
            "\n",
            "Bose's arrest and subsequent release set the scene for his escape to Nazi Germany, via Afghanistan and the Soviet Union. A few days before his escape, he sought solitude and, on this pretext, avoided meeting British guards and grew a beard. Late night 16 January 1941, the night of his escape, he dressed as a Pathan (brown long coat, a black fez-type coat and broad pyjamas) to avoid being identified. Bose escaped from under British surveillance from his Elgin Road house in Calcutta on the night of 17 January 1941, accompanied by his nephew Sisir Kumar Bose, later reaching Gomoh Railway Station (now Netaji Subhas Chandra Bose Gomoh Station) in the then state of Bihar (now Jharkhand), India.[98][99][100][101]\n",
            "\n",
            "He journeyed to Peshawar with the help of the Abwehr, where he was met by Akbar Shah, Mohammed Shah and Bhagat Ram Talwar. Bose was taken to the home of Abad Khan, a trusted friend of Akbar Shah's. On 26 January 1941, Bose began his journey to reach Russia through British India's North West frontier with Afghanistan. For this reason, he enlisted the help of Mian Akbar Shah, then a Forward Bloc leader in the North-West Frontier Province. Shah had been out of India en route to the Soviet Union, and suggested a novel disguise for Bose to assume. Since Bose could not speak one word of Pashto, it would make him an easy target of Pashto speakers working for the British. For this reason, Shah suggested that Bose act deaf and dumb, and let his beard grow to mimic those of the tribesmen. Bose's guide Bhagat Ram Talwar, unknown to him, was a Soviet agent.[100][101][102]\n",
            "\n",
            "Supporters of the Aga Khan III helped him across the border into Afghanistan where he was met by an Abwehr unit posing as a party of road construction engineers from the Organization Todt who then aided his passage across Afghanistan via Kabul to the border with the Soviet Union. After assuming the guise of a Pashtun insurance agent (\"Ziaudddin\") to reach Afghanistan, Bose changed his guise and travelled to Moscow on the Italian passport of an Italian nobleman \"Count Orlando Mazzotta\". From Moscow, he reached Rome, and from there he travelled to Nazi Germany.[100][101][103] Once in Russia the NKVD transported Bose to Moscow where he hoped that Russia's historical enmity to British rule in India would result in support for his plans for a popular rising in India. However, Bose found the Soviets' response disappointing and was rapidly passed over to the German Ambassador in Moscow, Count von der Schulenburg. He had Bose flown on to Berlin in a special courier aircraft at the beginning of April where he was to receive a more favourable hearing from Joachim von Ribbentrop and the Foreign Ministry officials at the Wilhelmstrasse.[100][101][104]\n",
            "\n",
            "In Germany, he was attached to the Special Bureau for India under Adam von Trott zu Solz which was responsible for broadcasting on the German-sponsored Azad Hind Radio.[105] He founded the Free India Center in Berlin, and created the Indian Legion (consisting of some 4500 soldiers) out of Indian prisoners of war who had previously fought for the British in North Africa prior to their capture by Axis forces. The Indian Legion was attached to the Wehrmacht, and later transferred to the Waffen SS. Its members swore the following allegiance to Hitler and Bose: \"I swear by God this holy oath that I will obey the leader of the German race and state, Adolf Hitler, as the commander of the German armed forces in the fight for India, whose leader is Subhas Chandra Bose\". This oath clearly abrogated control of the Indian legion to the German armed forces whilst stating Bose's overall leadership of India. He was also, however, prepared to envisage an invasion of India via the USSR by Nazi troops, spearheaded by the Azad Hind Legion; many have questioned his judgment here, as it seems unlikely that the Germans could have been easily persuaded to leave after such an invasion, which might also have resulted in an Axis victory in the War.[103]\n",
            "\n",
            "Soon, according to historian Romain Hayes, \"the (German) Foreign Office procured a luxurious residence for (Bose) along with a butler, cook, gardener, and an SS-chauffeured car. Emilie Schenkl moved in openly with him. The Germans, aware of the nature of the relationship, refrained from any involvement.\"[106] However, most of the staff in the Special Bureau for India, which had been set up to aid Bose, did not get along with Emilie.[107] In particular Adam von Trott, Alexander Werth and Freda Kretschemer, according to historian Leonard A. Gordon, \"appear to have disliked her intensely. They believed that she and Bose were not married and that she was using her liaison with Bose to live an especially comfortable life during the hard times of war\" and that differences were compounded by issues of class.[107] In November 1942, Schenkl gave birth to their daughter.\n",
            "\n",
            "The Germans were unwilling to form an alliance with Bose because they considered him unpopular in comparison with Mahatma Gandhi and Jawaharlal Nehru.[108][109] By the spring of 1942, the German army was mired in the USSR. Bose, due to disappointment over the lack of response from Nazi Germany, was now keen to move to Southeast Asia, where Japan had just won quick victories. However, he still expected official recognition from Nazi Germany. Adolf Hitler during his only meeting with Bose in late May 1942 refused to entertain Bose's requests and facilitated him with a submarine voyage to East Asia.[24][110][111]\n",
            "\n",
            "In February 1943, Bose left Schenkl and their baby daughter and boarded a German submarine to travel, via transfer to a Japanese submarine, to Japanese-occupied southeast Asia. In all, 3,000 Indian prisoners of war signed up for the Free India Legion. But instead of being delighted, Bose was worried. A left-wing admirer of Russia, he was devastated when Hitler's tanks rolled across the Soviet border. Matters were worsened by the fact that the now-retreating German army would be in no position to offer him help in driving the British from India. When he met Hitler in May 1942, his suspicions were confirmed, and he came to believe that the Nazi leader was more interested in using his men to win propaganda victories than military ones. So, in February 1943, Bose boarded a German U-boat and left for Japan. This left the men he had recruited leaderless and demoralised in Germany.[103][112]\n",
            "\n",
            "In 1943, after being disillusioned that Germany could be of any help in gaining India's independence, Bose left for Japan. He travelled with the German submarine U-180 around the Cape of Good Hope to the southeast of Madagascar, where he was transferred to the I-29 for the rest of the journey to Imperial Japan. This was the only civilian transfer between two submarines of two different navies in World War II.[100][101]\n",
            "\n",
            "The Indian National Army (INA) was the brainchild of Japanese Major (and post-war Lieutenant-General) Iwaichi Fujiwara, head of the Japanese intelligence unit Fujiwara Kikan. Fujiwara's mission was \"to raise an army which would fight alongside the Japanese army.\"[113][114] He first met Pritam Singh Dhillon, the president of the Bangkok chapter of the Indian Independence League, and through Pritam Singh's network recruited a captured British Indian army captain, Mohan Singh, on the western Malayan peninsula in December 1941. The First Indian National Army was formed as a result of discussion between Fujiwara and Mohan Singh in the second half of December 1941, and the name chosen jointly by them in the first week of January 1942.[115]\n",
            "\n",
            "This was along the concept of, and with support of, what was then known as the Indian Independence League headed from Tokyo by expatriate nationalist leader Rash Behari Bose. The first INA was however disbanded in December 1942 after disagreements between the Hikari Kikan and Mohan Singh, who came to believe that the Japanese High Command was using the INA as a mere pawn and propaganda tool. Mohan Singh was taken into custody and the troops returned to the prisoner-of-war camp. However, the idea of an independence army was revived with the arrival of Subhas Chandra Bose in the Far East in 1943. In July, at a meeting in Singapore, Rash Behari Bose handed over control of the organisation to Subhas Chandra Bose. Bose was able to reorganise the fledgling army and organise massive support among the expatriate Indian population in south-east Asia, who lent their support by both enlisting in the Indian National Army, as well as financially in response to Bose's calls for sacrifice for the independence cause. INA had a separate women's unit, the Rani of Jhansi Regiment (named after Rani Lakshmi Bai) headed by Capt. Lakshmi Swaminathan, which is seen as a first of its kind in Asia.[116][117]\n",
            "\n",
            "Even when faced with military reverses, Bose was able to maintain support for the Azad Hind movement. Spoken as a part of a motivational speech for the Indian National Army at a rally of Indians in Burma on 4 July 1944, Bose's most famous quote was \"Give me blood, and I shall give you freedom!\" In this, he urged the people of India to join him in his fight against the British Raj.[citation needed] Spoken in Hindi, Bose's words are highly evocative. The troops of the INA were under the aegis of a provisional government, the Azad Hind Government, which came to produce its own currency, postage stamps, court and civil code, and was recognised by nine Axis states—Germany, Japan, Italian Social Republic, the Independent State of Croatia, Wang Jingwei regime in Nanjing, China, a provisional government of Burma, Manchukuo and Japanese-controlled Philippines. Of those countries, five were authorities established under Axis occupation. This government participated in the so-called Greater East Asia Conference as an observer in November 1943.[118]\n",
            "\n",
            "The INA's first commitment was in the Japanese thrust towards Eastern Indian frontiers of Manipur. INA's special forces, the Bahadur Group, were involved in operations behind enemy lines both during the diversionary attacks in Arakan, as well as the Japanese thrust towards Imphal and Kohima.[119]\n",
            "\n",
            "The Japanese also took possession of Andaman and Nicobar Islands in 1942 and a year later, the Provisional Government and the INA were established in the Andaman and Nicobar Islands with Lt Col. A.D. Loganathan appointed its Governor General. The islands were renamed Shaheed (Martyr) and Swaraj (Independence). However, the Japanese Navy remained in essential control of the island's administration. During Bose's only visit to the islands in early 1944, apparently in the interest of shielding Bose from attaining a full knowledge of ultimate Japanese intentions, Bose's Japanese hosts carefully isolated him from the local population. At that time the island's Japanese administration had been torturing the leader of the island's Indian Independence League, Diwan Singh, who later died of his injuries in the Cellular Jail. During Bose's visit to the islands several locals attempted to alert Bose to Singh's plight, but apparently without success. During this time Loganathan became aware of his lack of any genuine administrative control and resigned in protest as Governor General, later returning to the Government's headquarters in Rangoon.[120][121]\n",
            "\n",
            "On the Indian mainland, an Indian Tricolour, modelled after that of the Indian National Congress, was raised for the first time in the town of Moirang, in Manipur, in north-eastern India. The adjacent towns of Kohima and Imphal were then encircled and placed under siege by divisions of the Japanese Army, working in conjunction with the Burmese National Army, and with Brigades of the INA, known as the Gandhi and Nehru Brigades. This attempt at conquering the Indian mainland had the Axis codename of Operation U-Go.[citation needed]\n",
            "\n",
            "During this operation, on 6 July 1944, in a speech broadcast by the Azad Hind Radio from Singapore, Bose addressed Mahatma Gandhi as the \"Father of the Nation\" and asked for his blessings and good wishes for the war he was fighting. This was the first time that Gandhi was referred to by this appellation.[122] The protracted Japanese attempts to take these two towns depleted Japanese resources, with Operation U-Go ultimately proving unsuccessful. Through several months of Japanese onslaught on these two towns, Commonwealth forces remained entrenched in the towns. Commonwealth forces then counter-attacked, inflicting serious losses on the Axis led forces, who were then forced into a retreat back into Burmese territory. After the Japanese defeat at the battles of Kohima and Imphal, Bose's Provisional Government's aim of establishing a base in mainland India was lost forever.[citation needed]\n",
            "\n",
            "Still the INA fought in key battles against the British Indian Army in Burmese territory, notable in Meiktilla, Mandalay, Pegu, Nyangyu and Mount Popa. However, with the fall of Rangoon, Bose's government ceased to be an effective political entity.[citation needed] A large proportion of the INA troops surrendered under Lt Col Loganathan. The remaining troops retreated with Bose towards Malaya or made for Thailand. Japan's surrender at the end of the war also led to the surrender of the remaining elements of the Indian National Army. The INA prisoners were then repatriated to India and some tried for treason.[citation needed]\n",
            "\n",
            "Subhas Chandra Bose's death occurred from third-degree burns on 18 August 1945 after his overloaded Japanese plane crashed in Japanese-ruled Formosa (now Taiwan).[123][36][4][5] However, many among his supporters, especially in Bengal, refused at the time, and have refused since, to believe either the fact or the circumstances of his death.[123][37][38] Conspiracy theories appeared within hours of his death and have thereafter had a long shelf life,[123][am] keeping alive various martial myths about Bose.[44]\n",
            "\n",
            "In Taihoku, at around 2:30 pm as the bomber with Bose on board was leaving the standard path taken by aircraft during take-off, the passengers inside heard a loud sound, similar to an engine backfiring.[124][125] The mechanics on the tarmac saw something fall out of the plane.[126] It was the portside engine, or a part of it, and the propeller.[126][124] The plane swung wildly to the right and plummeted, crashing, breaking into two, and exploding into flames.[126][124] Inside, the chief pilot, copilot and Lieutenant-General Tsunamasa Shidei, the Vice Chief of Staff of the Japanese Kwantung Army, who was to have made the negotiations for Bose with the Soviet army in Manchuria,[127] were instantly killed.[126][128] Bose's assistant Habibur Rahman was stunned, passing out briefly, and Bose, although conscious and not fatally hurt, was soaked in gasoline.[126] When Rahman came to, he and Bose attempted to leave by the rear door, but found it blocked by the luggage.[128] They then decided to run through the flames and exit from the front.[128] The ground staff, now approaching the plane, saw two people staggering towards them, one of whom had become a human torch.[126] The human torch turned out to be Bose, whose gasoline-soaked clothes had instantly ignited.[128] Rahman and a few others managed to smother the flames, but also noticed that Bose's face and head appeared badly burned.[128] According to Joyce Chapman Lebra, \"A truck which served as ambulance rushed Bose and the other passengers to the Nanmon Military Hospital south of Taihoku.\"[126] The airport personnel called Dr. Taneyoshi Yoshimi, the surgeon-in-charge at the hospital at around 3 pm.[128] Bose was conscious and mostly coherent when they reached the hospital, and for some time thereafter.[129] Bose was naked, except for a blanket wrapped around him, and Dr. Yoshimi immediately saw evidence of third-degree burns on many parts of the body, especially on his chest, doubting very much that he would live.[129] Dr. Yoshimi promptly began to treat Bose and was assisted by Dr. Tsuruta.[129] According to historian Leonard A. Gordon, who interviewed all the hospital personnel later,\n",
            "\n",
            "A disinfectant, Rivamol  [sic], was put over most of his body and then a white ointment was applied and he was bandaged over most of his body. Dr. Yoshimi gave Bose four injections of Vita Camphor and two of Digitamine for his weakened heart. These were given about every 30 minutes. Since his body had lost fluids quickly upon being burnt, he was also given Ringer solution intravenously. A third doctor, Dr. Ishii gave him a blood transfusion. An orderly, Kazuo Mitsui, an army private, was in the room and several nurses were also assisting. Bose still had a clear head which Dr. Yoshimi found remarkable for someone with such severe injuries.[130]\n",
            "Soon, in spite of the treatment, Bose went into a coma.[130][126] A few hours later, between 9 and 10 pm (local time) on Saturday, 18 August 1945, Bose died aged 48.[130][126]\n",
            "\n",
            "Bose's body was cremated in the main Taihoku crematorium two days later, 20 August 1945.[131] On 23 August 1945, the Japanese news agency Do Trzei announced the death of Bose and Shidea.[126] On 7 September a Japanese officer, Lieutenant Tatsuo Hayashida, carried Bose's ashes to Tokyo, and the following morning they were handed to the president of the Tokyo Indian Independence League, Rama Murti.[132] On 14 September a memorial service was held for Bose in Tokyo and a few days later the ashes were turned over to the priest of the Renkōji Temple of Nichiren Buddhism in Tokyo.[133][134] There they have remained ever since.[134]\n",
            "\n",
            "Among the INA personnel, there was widespread disbelief, shock, and trauma. Most affected were the young Tamil Indians from Malaya and Singapore, both men and women, who comprised the bulk of the civilians who had enlisted in the INA.[41] The professional soldiers in the INA, most of whom were Punjabis, faced an uncertain future, with many fatalistically expecting reprisals from the British.[41] In India the Indian National Congress's official line was succinctly expressed in a letter Mohandas Karamchand (Mahatma) Gandhi wrote to Rajkumari Amrit Kaur.[41] Said Gandhi, \"Subhas Bose has died well. He was undoubtedly a patriot, though misguided.\"[41] Many congressmen had not forgiven Bose for quarrelling with Gandhi and for collaborating with what they considered was Japanese fascism. The Indian soldiers in the British Indian army, some two and a half million of whom had fought during the Second World War, were conflicted about the INA. Some saw the INA as traitors and wanted them punished; others felt more sympathetic. The British Raj, though never seriously threatened by the INA, tried 300 INA officers for treason in the INA trials, but eventually backtracked.[41]\n",
            "\n",
            "Subhas Chandra Bose believed that the Bhagavad Gita was a great source of inspiration for the struggle against the British.[135] Swami Vivekananda's teachings on universalism, his nationalist thoughts and his emphasis on social service and reform had all inspired Subhas Chandra Bose from his very young days. The fresh interpretation of India's ancient scriptures had appealed immensely to him.[136] Some scholars think that Hindu spirituality formed an essential part of his political and social thought.[137] As historian Leonard Gordon explains \"Inner religious explorations continued to be a part of his adult life. This set him apart from the slowly growing number of atheistic socialists and communists who dotted the Indian landscape.\"[138]\n",
            "\n",
            "Bose first expressed his preference for \"a synthesis of what modern Europe calls socialism and fascism\" in a 1930 speech in Calcutta.[139]\n",
            "Bose later criticized Nehru's 1933 statement that there is \"no middle road\" between communism and fascism, describing it as \"fundamentally wrong\". Bose believed communism would not gain ground in India due to its rejection of nationalism and religion and suggested a \"synthesis between communism and fascism\" could take hold instead.[140] In 1944, Bose similarly stated, \"Our philosophy should be a synthesis between National Socialism and communism.\"[141]\n",
            "\n",
            "Bose believed that authoritarianism could bring liberation and reconstruction of Indian society.[142] He expressed admiration for the authoritarian methods which he saw in Italy and Germany during the 1930s; he thought they could be used to build an independent India.[96]\n",
            "\n",
            "To a large number of Congress leaders, Bose programme shared enough similarities with Japanese fascists.[143] After getting marginalized within Congress, Bose chose to embrace fascist regimes as allies against the British and fled India.[44][144] Bose believed that India \"must have a political system—State—of an authoritarian character,\" and \"a strong central government with dictatorial powers for some years to come\".[145]\n",
            "\n",
            "Earlier, Bose had clearly expressed his belief that democracy was the best option for India.[146] However, during the war (and possibly as early as the 1930s), Bose seems to have decided that no democratic system could be adequate to overcome India's poverty and social inequalities, and he wrote that a socialist state similar to that of Soviet Russia (which he had also seen and admired) would be needed for the process of national re-building.[an] Accordingly, some suggest that Bose's alliance with the Axis during the war was based on more than just pragmatism and that Bose was a militant nationalist, though not a Nazi nor a Fascist, for he supported the empowerment of women, secularism and other liberal ideas; alternatively, others consider he might have been using populist methods of mobilisation common to many post-colonial leaders.[96]\n",
            "\n",
            "Since before the beginning of the World War II, Bose was opposed to the attempts to grant Jewish refugees asylum in India.[148][149] The great anti-Jewish pogrom called \"the Night of Broken Glass\" happened on 9 November 1938. In early December, the pro-Hindu Mahasabha journals published articles lending support to German anti-Semitism. This stance brought Hindu Mahasabha into conflict with the Congress which, on 12 December, issued statement containing references to recent European events. Within the Congress, only Bose opposed this stance of the party. After some months in April 1939, Bose refused to support the party motion that Jews can find refuge in India.[49][150][151][152][153][154]\n",
            "\n",
            "In 1938, Bose had denounced Nazi racial policy and persecution of Jews.[155] However, in 1942 he had published an article in the journal Angriff, where he wrote that Indians were true Aryans and the 'brethren' of the Germans. Bose added that Swastika (symbol of Nazi Germany) was an ancient Indian symbol. Bose urged that anti-Semitism should be part of Indian liberation movement because the Jews assisted the British to exploit Indians.[156] The Jewish Chronicle had condemned Bose as \"India's anti-Jewish Quisling\" over this article.[157]\n",
            "\n",
            "Roman Hayes describes the troubled legacy of Bose with atrocities related to Jews in the following words:–\n",
            "\n",
            "\"The most troubling aspect of Bose's presence in Nazi Germany is not military or political but rather ethical. His alliance with the most genocidal regime in history poses serious dilemmas precisely because of his popularity and his having made a lifelong career of fighting the 'good cause'. How did a man who started his political career at the feet of Gandhi end up with Hitler, Mussolini, and Tojo? Even in the case of Mussolini and Tojo, the gravity of the dilemma pales in comparison to that posed by his association with Hitler and the Nazi leadership. The most disturbing issue, all too often ignored, is that in the many articles, minutes, memorandums, telegrams, letters, plans, and broadcasts Bose left behind in Germany, he did not express the slightest concern or sympathy for the millions who died in the concentration camps. Not one of his Berlin wartime associates or colleagues ever quotes him expressing any indignation. Not even when the horrors of Auschwitz and its satellite camps were exposed to the world upon being liberated by Soviet troops in early 1945, revealing publicly for the first time the genocidal nature of the Nazi regime, did Bose react.\"[48]\n",
            "His most famous quote was \"Give me blood and I will give you freedom\".[158] Another famous quote was Dilli Chalo (\"On to Delhi)!\" This was the call he used to give the INA armies to motivate them. Another slogan coined by him was \"Ittehad, Etemad, Qurbani\" (Urdu for \"Unity, Agreement, Sacrifice\"). [159]\n",
            "\n",
            "Bose' defiance of British authority in India made him a hero among many Indians,[ao][ap][aq] however his wartime alliances with Nazi Germany and Imperial Japan left a legacy fraught with authoritarianism, anti-Semitism, and military failure.[ar][162][163][as][at]\n",
            "\n",
            "Bose was featured on the stamps in India from 1964, 1993, 1997, 2001, 2016, 2018 and 2021.[166] Bose was also featured in ₹2 coins in 1996 and 1997, ₹75 coin in 2018 and ₹125 coin in 2021.[167][168][169] Netaji Subhas Chandra Bose International Airport at Kolkata, West Bengal, Netaji Subhas Chandra Bose Gomoh railway station at Gomoh, Jharkhand, Netaji Express, a train runs between Howrah and Kalka, Cuttack Netaji Bus Terminal at Cuttack, Odisha, Netaji Bhavan metro station and Netaji metro station at Kolkata, West Bengal and Netaji Subhash Place metro station at Delhi. Netaji Subhash Chandra Bose Island at Andaman and Nicobar Island, Netaji Subhas Chandra Bose Setu (Longest bridge of Odisha) at Cuttack, Odisha and many other institutions in India are named after him. On 23 August 2007, Japanese Prime Minister, Shinzō Abe visited the Netaji Bhawan in Kolkata.[170][171] Abe, who is also the recipient of Netaji Award 2022,[172] said to Bose's family \"The Japanese are deeply moved by Bose's strong will to have led the Indian independence movement from British rule. Netaji is a much respected name in Japan.\"[170][171]\n",
            "\n",
            "In 2021, the Government of India declared 23 January as Parakram Divas to commemorate the birth anniversary of Subhas Chandra Bose.[173] In 2019, the Government of India inaugurated a museum on Netaji Subhash Chandra Bose and his INA at Red Fort, New Delhi. In 2022, Government of India inaugurated a Statue of Netaji Subhas Chandra Bose at India Gate. Also in the same year, Government of India started a official award Subhas Chandra Bose Aapda Prabandhan Puraskar, for those who does excellent work in Disaster management.[174][175]\n",
            "\n",
            "\n"
          ]
        }
      ]
    },
    {
      "cell_type": "markdown",
      "source": [
        "### **Cleanin the data**"
      ],
      "metadata": {
        "id": "qcsDtxGfWeFc"
      }
    },
    {
      "cell_type": "code",
      "source": [
        "for i in range(400):\n",
        "  string = '['+str(i)+']'\n",
        "  corpus=corpus.replace(string,'')"
      ],
      "metadata": {
        "id": "-xsOaWfLNyRZ"
      },
      "execution_count": 97,
      "outputs": []
    },
    {
      "cell_type": "code",
      "source": [
        "print(corpus)"
      ],
      "metadata": {
        "colab": {
          "base_uri": "https://localhost:8080/"
        },
        "id": "-h395qTYOwJ4",
        "outputId": "b3c3d93d-002c-4d4f-a98f-6af614c73670"
      },
      "execution_count": 98,
      "outputs": [
        {
          "output_type": "stream",
          "name": "stdout",
          "text": [
            "\n",
            "\n",
            "Subhas Chandra Bose (/ʃʊbˈhɑːs ˈtʃʌndrə ˈboʊs/ ⓘ shuub-HAHSS CHUN-drə BOHSS; 23 January 1897 – 18 August 1945) was an Indian nationalist whose defiance of British authority in India made him a hero among many Indians, but his wartime alliances with Nazi Germany and Imperial Japan left a legacy vexed by authoritarianism, anti-Semitism, and military failure. The honorific Netaji (Bengali: \"Respected Leader\") was first applied to Bose in Germany in early 1942—by the Indian soldiers of the Indische Legion and by the German and Indian officials in the Special Bureau for India in Berlin. It is now used throughout India.[h]\n",
            "\n",
            "Subhas Bose was born into wealth and privilege in a large Bengali family in Orissa during the British Raj. The early recipient of an Anglocentric education, he was sent after college to England to take the Indian Civil Service examination. He succeeded with distinction in the vital first exam but demurred at taking the routine final exam, citing nationalism as a higher calling. Returning to India in 1921, Bose joined the nationalist movement led by Mahatma Gandhi and the Indian National Congress. He followed Jawaharlal Nehru to leadership in a group within the Congress which was less keen on constitutional reform and more open to socialism.[i] Bose became Congress president in 1938. After reelection in 1939, differences arose between him and the Congress leaders, including Gandhi, over the future federation of British India and princely states, but also because discomfort had grown among the Congress leadership over Bose's negotiable attitude to non-violence, and his plans for greater powers for himself. After the large majority of the Congress Working Committee members resigned in protest, Bose resigned as president and was eventually ousted from the party.\n",
            "\n",
            "In April 1941 Bose arrived in Nazi Germany, where the leadership offered unexpected but equivocal sympathy for India's independence. German funds were employed to open a Free India Centre in Berlin. A 3,000-strong Free India Legion was recruited from among Indian POWs captured by Erwin Rommel's Afrika Korps to serve under Bose.[j] Although peripheral to their main goals, the Germans inconclusively considered a land invasion of India throughout 1941. By the spring of 1942, the German army was mired in Russia and Bose became keen to move to southeast Asia, where Japan had just won quick victories. Adolf Hitler during his only meeting with Bose in late May 1942 offered to arrange a submarine. During this time, Bose became a father; his wife,[k] or companion,[l] Emilie Schenkl, gave birth to a baby girl.[m] Identifying strongly with the Axis powers, Bose boarded a German submarine in February 1943. Off Madagascar, he was transferred to a Japanese submarine from which he disembarked in Japanese-held Sumatra in May 1943.\n",
            "\n",
            "With Japanese support, Bose revamped the Indian National Army (INA), which comprised Indian prisoners of war of the British Indian army who had been captured by the Japanese in the Battle of Singapore. A Provisional Government of Free India was declared on the Japanese-occupied Andaman and Nicobar Islands and was nominally presided by Bose.[n] Although Bose was unusually driven and charismatic, the Japanese considered him to be militarily unskilled,[o] and his soldierly effort was short-lived. In late 1944 and early 1945, the British Indian Army reversed the Japanese attack on India. Almost half of the Japanese forces and fully half of the participating INA contingent were killed.[p][q] The remaining INA was driven down the Malay Peninsula and surrendered with the recapture of Singapore. Bose chose to escape to Manchuria to seek a future in the Soviet Union which he believed to have turned anti-British. He died from third-degree burns received when his overloaded plane crashed in Japanese Taiwan on August 18, 1945.[r] Some Indians did not believe that the crash had occurred,[s] expecting Bose to return to secure India's independence.[t][u][v] The Indian National Congress, the main instrument of Indian nationalism, praised Bose's patriotism but distanced itself from his tactics and ideology.[w] The British Raj, never seriously threatened by the INA, charged 300 INA officers with treason in the INA trials, but eventually backtracked in the face of opposition by the Congress,[x] and a new mood in Britain for rapid decolonisation in India.[y]\n",
            "\n",
            "Bose's legacy is mixed. Among many in India, he is seen as a hero, his saga serving as a would-be counterpoise to the many actions of regeneration, negotiation, and reconciliation over a quarter-century through which the independence of India was achieved.[z][aa][ab] His collaborations with Japanese Fascism and Nazism pose serious ethical dilemmas,[ac] especially his reluctance to publicly criticize the worst excesses of German anti-Semitism from 1938 onwards or to offer refuge in India to its victims.[ad][ae][af]\n",
            "\n",
            "Subhas Chandra Bose was born to Bengali parents Prabhavati Bose (née Dutt) and Janakinath Bose on 23 January 1897 in Cuttack—in what is today the state of Odisha in India, but was then part of the Bengal Presidency in British India.[ag][ah] Prabhavati, or familiarly Mā jananī (lit. 'mother'), the anchor of family life, had her first child at age 14 and 13 children thereafter. Subhas was the ninth child and the sixth son. Jankinath, a successful lawyer and government pleader, was loyal to the government of British India and scrupulous about matters of language and the law. A self-made man from the rural outskirts of Calcutta, he had remained in touch with his roots, returning annually to his village during the pooja holidays.\n",
            "\n",
            "Eager to join his five school-going older brothers, Subhas entered the Baptist Mission's Protestant European School in Cuttack in January 1902. English was the medium of all instruction in the school, the majority of the students being European or Anglo-Indians of mixed British and Indian ancestry. The curriculum included English—correctly written and spoken—Latin, the Bible, good manners, British geography, and British History; no Indian languages were taught. The choice of the school was Janakinath's, who wanted his sons to speak flawless English with flawless intonation, believing both to be important for access to the British in India. The school contrasted with Subhas's home, where only Bengali was spoken. At home, his mother worshipped the Hindu goddesses Durga and Kali, told stories from the epics Mahabharata and Ramayana, and sang Bengali religious songs. From her, Subhas imbibed a nurturing spirit, looking for situations in which to help people in distress, preferring gardening around the house to joining in sports with other boys. His father, who was reserved in manner and busy with professional life, was a distant presence in a large family, causing Subhas to feel he had a nondescript childhood. Still, Janakinath read English literature avidly—John Milton, William Cowper, Matthew Arnold, and Shakespeare's Hamlet being among his favourites; several of his sons were to become English literature enthusiasts like him.\n",
            "\n",
            "In 1909 the 12-year-old Subhas Bose followed his five brothers to the Ravenshaw Collegiate School in Cuttack. Here, Bengali and Sanskrit were also taught, as were ideas from Hindu scriptures such as the Vedas and the Upanishads not usually picked up at home. Although his western education continued apace, he began to wear Indian clothes and engage in religious speculation. To his mother, he wrote long letters which displayed acquaintance with the ideas of the Bengali mystic Ramakrishna Paramahamsa and his disciple Swami Vivekananda, and the novel Ananda Math by Bankim Chandra Chatterjee, popular then among young Hindu men. Despite the preoccupation, Subhas was able to demonstrate an ability when needed to focus on his studies, to compete, and to succeed in exams. In 1912, he secured the second position in the matriculation examination conducted under the auspices of the University of Calcutta.\n",
            "\n",
            "Subhas Bose followed his five brothers again 1913 to Presidency College, Calcutta, the historic and traditional college for Bengal's upper-caste Hindu men. He chose to study philosophy, his readings including Kant, Hegel, Bergson and other Western philosophers. A year earlier, he had befriended Hemanta Kumar Sarkar, a confidant and partner in religious yearnings. At Presidency, their emotional ties grew stronger. In the fanciful language of religious imagery, they declared their pure love for each other. In the long vacations of 1914, they traveled to northern India for several months to search for a spiritual guru to guide them. Subhas's family was not told clearly about the trip, leading them to think he had run away. During the trip, in which the guru proved elusive, Subhas came down with typhoid fever. His absence caused emotional distress to his parents, leading both parents to break down upon his return. Heated words were exchanged between Janakinath and Subhas. It took the return of Subhas's favorite brother, Sarat Chandra Bose, from law studies in England for the tempers to subside. Subhas returned to presidency and busied himself with studies, debating and student journalism.\n",
            "\n",
            "In February 1916 Bose was alleged to have masterminded, or participated in, an incident involving E. F. Oaten, Professor of History at Presidency. Before the incident, it was claimed by the students, Oaten had made rude remarks about Indian culture, and collared and pushed some students; according to Oaten, the students were making an unacceptably loud noise just outside his class. A few days later, on 15 February, some students accosted Oaten on a stairway, surrounded him, beat him with sandals, and took to flight. An inquiry committee was constituted. Although Oaten, who was unhurt, could not identify his assailants, a college servant testified to seeing Subhas Bose among those fleeing, confirming for the authorities what they had determined to be the rumor among the students. Bose was expelled from the college and rusticated from University of Calcutta. The incident shocked Calcutta and caused anguish to Bose's family. He was ordered back to Cuttack. His family's connections were employed to pressure Asutosh Mukherjee, the Vice-Chancellor of Calcutta University. Despite this, Subhas Bose's expulsion remained in place until 20 July 1917, when the Syndicate of Calcutta University granted him permission to return, but to another college. He joined Scottish Church College, receiving his B.A. in 1918 in the First Class with honours in philosophy, placing second among all philosophy students in Calcutta University.\n",
            "\n",
            "At his father's urging, Subhas Bose agreed to travel to England to prepare and appear for the Indian Civil Services (ICS) examination. Arriving in London on 20 October 1919, Subhas readied his application for the ICS. For his references he put down Lord Sinha of Raipur, Under Secretary of State for India, and Bhupendranath Basu, a wealthy Calcutta lawyer who sat on the Council of India in London. Bose was eager also to gain admission to a college at the University of Cambridge. It was past the deadline for admission. He sought help from some Indian students and from the Non-Collegiate Students Board. The Board offered the university's education at an economical cost without formal admission to a college. Bose entered the register of the university on 19 November 1919 and simultaneously set about preparing for the Civil Service exams. He chose the Mental and Moral Sciences Tripos at Cambridge, its completion requirement reduced to two years on account of his Indian B. A.\n",
            "\n",
            "\n",
            "There were six vacancies in the ICS. Subhas Bose took the open competitive exam for them in August 1920 and was placed fourth. This was a vital first step. Still remaining was a final examination in 1921 on more topics on India, including the Indian Penal Code, the Indian Evidence Act, Indian history, and an Indian language. Successful candidates had also to clear a riding test. Having no fear of these subjects and being a rider, Subhas Bose felt the ICS was within easy reach. Yet between August 1920 and 1921 he began to have doubts about taking the final examination. Many letters were exchanged with his father and his brother Sarat Chandra Bose back in Calcutta. In one letter to Sarat, Subhas wrote, \n",
            "\"But for a man of my temperament who has been feeding on ideas that might be called eccentric—the line of least resistance is not the best line to follow ... The uncertainties of life are not appalling to one who has not, at heart, worldly ambitions. Moreover, it is not possible to serve one's country in the best and fullest manner if one is chained on to the civil service.\"\n",
            " In April 1921, Subhas Bose made his decision firm not to take the final examination for the ICS and wrote to Sarat informing him of the same, apologizing for the pain he would cause to his father, his mother, and other members of his family. On 22 April 1921, he wrote to the Secretary of State for India, Edwin Montagu, stating, \"I wish to have my name removed from the list of probationers in the Indian Civil Service.\" The following day he wrote again to Sarat:\n",
            "I received a letter from mother saying that in spite of what father and others think she prefers the ideals for which Mahatma Gandhi stands. I cannot tell you how happy I have been to receive such a letter. It will be worth a treasure for me as it has removed something like a burden from my mind.\"\n",
            "For some time before Subhas Bose had been in touch with C. R. Das, a lawyer who had risen to the helm of politics in Bengal; Das encouraged Subhas to return to Calcutta. With the ICS decision now firmly behind him, Subhas Bose took his Cambridge B.A. Final examinations half-heartedly, passing, but being placed in the Third Class. He prepared to sail for India in June 1921, electing for a fellow Indian student to pick up his diploma.\n",
            "\n",
            "Subhas Bose, aged 24, arrived ashore in India at Bombay on the morning of 16 July 1921 and immediately set about arranging an interview with Mahatma Gandhi. Gandhi, aged 51, was the leader of the non-cooperation movement that had taken India by storm the previous year and in a quarter-century would evolve to secure its independence.[ai][aj] Gandhi happened to be in Bombay and agreed to see Bose that afternoon. In Bose's account of the meeting, written many years later, he pilloried Gandhi with question after question. Bose thought Gandhi's answers were vague, his goals unclear, his plan for achieving them not thought through. Gandhi and Bose differed in this first meeting on the question of means—for Gandhi non-violent means to any end were non-negotiable; in Bose's thought, all means were acceptable in the service of anti-colonial ends. They differed on the question of ends—Bose was attracted to totalitarian models of governance, which were anathematized by Gandhi. According to historian Gordon, \"Gandhi, however, set Bose on to the leader of the Congress and Indian nationalism in Bengal, C. R. Das, and in him Bose found the leader whom he sought.\" Das was more flexible than Gandhi, more sympathetic to the extremism that had attracted idealistic young men such as Bose in Bengal. Das launched Bose into nationalist politics. Bose would work within the ambit of the Indian National Congress politics for nearly 20 years even as he tried to change its course.\n",
            "\n",
            "In 1922 Bose founded the newspaper Swaraj and assumed charge of the publicity for the Bengal Provincial Congress Committee. His mentor was Chittaranjan Das, a voice for aggressive nationalism in Bengal. In 1923, Bose was elected the President of Indian Youth Congress and also the Secretary of the Bengal State Congress. He became the editor of the newspaper \"Forward\", which had been founded by Chittaranjan Das. Bose worked as the CEO of the Calcutta Municipal Corporation for Das when the latter was elected mayor of Calcutta in 1924. During the same year, when Bose was leading a protest march in Calcutta, he, Maghfoor Ahmad Ajazi and other leaders were arrested and imprisoned.[failed verification] After a roundup of nationalists in 1925, Bose was sent to prison in Mandalay, British Burma, where he contracted tuberculosis.\n",
            "\n",
            "\n",
            "In 1927, after being released from prison, Bose became general secretary of the Congress party and worked with Jawaharlal Nehru for independence. In late December 1928, Bose organised the Annual Meeting of the Indian National Congress in Calcutta. His most memorable role was as General officer commanding (GOC) Congress Volunteer Corps. Author Nirad Chaudhuri wrote about the meeting: \n",
            "Bose organized a volunteer corps in uniform, its officers were even provided with steel-cut epaulettes ... his uniform was made by a firm of British tailors in Calcutta, Harman's. A telegram addressed to him as GOC was delivered to the British General in Fort William and was the subject of a good deal of malicious gossip in the (British Indian) press. Mahatma Gandhi as a sincere pacifist vowed to non-violence, did not like the strutting, clicking of boots, and saluting, and he afterward described the Calcutta session of the Congress as a Bertram Mills circus, which caused a great deal of indignation among the Bengalis.\n",
            "A little later, Bose was again arrested and jailed for civil disobedience; this time he emerged to become Mayor of Calcutta in 1930.\n",
            "\n",
            "During the mid-1930s Bose travelled in Europe, visiting Indian students and European politicians, including Benito Mussolini. He observed party organisation and saw communism and fascism in action. In this period, he also researched and wrote the first part of his book The Indian Struggle, which covered the country's independence movement in the years 1920–1934. Although it was published in London in 1935, the British government banned the book in the colony out of fears that it would encourage unrest. Bose was supported in Europe by the Indian Central European Society organized by Otto Faltis from Vienna.\n",
            "\n",
            "In 1938 Bose stated his opinion that the INC \"should be organised on the broadest anti-imperialist front with the two-fold objective of winning political freedom and the establishment of a socialist regime.\" By 1938 Bose had become a leader of national stature and agreed to accept nomination as Congress President. He stood for unqualified Swaraj (self-governance), including the use of force against the British. This meant a confrontation with Mohandas Gandhi, who in fact opposed Bose's presidency, splitting the Indian National Congress party.\n",
            "\n",
            "Bose attempted to maintain unity, but Gandhi advised Bose to form his own cabinet. The rift also divided Bose and Nehru; he appeared at the 1939 Congress meeting on a stretcher. He was elected president again over Gandhi's preferred candidate Pattabhi Sitaramayya. U. Muthuramalingam Thevar strongly supported Bose in the intra-Congress dispute. Thevar mobilised all south India votes for Bose. However, due to the manoeuvrings of the Gandhi-led clique in the Congress Working Committee, Bose found himself forced to resign from the Congress presidency.[citation needed]\n",
            "\n",
            "On 22 June 1939 Bose organised the All India Forward Bloc a faction within the Indian National Congress, aimed at consolidating the political left, but its main strength was in his home state, Bengal. U Muthuramalingam Thevar, who was a staunch supporter of Bose from the beginning, joined the Forward Bloc. When Bose visited Madurai on 6 September, Thevar organised a massive rally as his reception.[citation needed]\n",
            "\n",
            "When Subhas Chandra Bose was heading to Madurai, on an invitation of Muthuramalinga Thevar to amass support for the Forward Bloc, he passed through Madras and spent three days at Gandhi Peak.\n",
            "His correspondence reveals that despite his clear dislike for British subjugation, he was deeply impressed by their methodical and systematic approach and their steadfastly disciplinarian outlook towards life. In England, he exchanged ideas on the future of India with British Labour Party leaders and political thinkers like Lord Halifax, George Lansbury, Clement Attlee, Arthur Greenwood, Harold Laski, J.B.S. Haldane, Ivor Jennings, G.D.H. Cole, Gilbert Murray and Sir Stafford Cripps.[citation needed]\n",
            "\n",
            "He came to believe that an independent India needed socialist authoritarianism, on the lines of Turkey's Kemal Atatürk, for at least two decades. For political reasons Bose was refused permission by the British authorities to meet Atatürk at Ankara. During his sojourn in England Bose tried to schedule appointments with several politicians, but only the Labour Party and Liberal politicians agreed to meet with him. Conservative Party officials refused to meet him or show him courtesy because he was a politician coming from a colony. In the 1930s leading figures in the Conservative Party had opposed even Dominion status for India. It was during the Labour Party government of 1945–1951, with Attlee as the Prime Minister, that India gained independence.\n",
            "\n",
            "On the outbreak of war, Bose advocated a campaign of mass civil disobedience to protest against Viceroy Lord Linlithgow's decision to declare war on India's behalf without consulting the Congress leadership. Having failed to persuade Gandhi of the necessity of this, Bose organised mass protests in Calcutta calling for the removal of the \"Holwell Monument\", which then stood at the corner of Dalhousie Square in memoriam of those who died in the Black Hole of Calcutta. He was thrown in jail by the British, but was released following a seven-day hunger strike. Bose's house in Calcutta was kept under surveillance by the CID.\n",
            "\n",
            "Bose's arrest and subsequent release set the scene for his escape to Nazi Germany, via Afghanistan and the Soviet Union. A few days before his escape, he sought solitude and, on this pretext, avoided meeting British guards and grew a beard. Late night 16 January 1941, the night of his escape, he dressed as a Pathan (brown long coat, a black fez-type coat and broad pyjamas) to avoid being identified. Bose escaped from under British surveillance from his Elgin Road house in Calcutta on the night of 17 January 1941, accompanied by his nephew Sisir Kumar Bose, later reaching Gomoh Railway Station (now Netaji Subhas Chandra Bose Gomoh Station) in the then state of Bihar (now Jharkhand), India.\n",
            "\n",
            "He journeyed to Peshawar with the help of the Abwehr, where he was met by Akbar Shah, Mohammed Shah and Bhagat Ram Talwar. Bose was taken to the home of Abad Khan, a trusted friend of Akbar Shah's. On 26 January 1941, Bose began his journey to reach Russia through British India's North West frontier with Afghanistan. For this reason, he enlisted the help of Mian Akbar Shah, then a Forward Bloc leader in the North-West Frontier Province. Shah had been out of India en route to the Soviet Union, and suggested a novel disguise for Bose to assume. Since Bose could not speak one word of Pashto, it would make him an easy target of Pashto speakers working for the British. For this reason, Shah suggested that Bose act deaf and dumb, and let his beard grow to mimic those of the tribesmen. Bose's guide Bhagat Ram Talwar, unknown to him, was a Soviet agent.\n",
            "\n",
            "Supporters of the Aga Khan III helped him across the border into Afghanistan where he was met by an Abwehr unit posing as a party of road construction engineers from the Organization Todt who then aided his passage across Afghanistan via Kabul to the border with the Soviet Union. After assuming the guise of a Pashtun insurance agent (\"Ziaudddin\") to reach Afghanistan, Bose changed his guise and travelled to Moscow on the Italian passport of an Italian nobleman \"Count Orlando Mazzotta\". From Moscow, he reached Rome, and from there he travelled to Nazi Germany. Once in Russia the NKVD transported Bose to Moscow where he hoped that Russia's historical enmity to British rule in India would result in support for his plans for a popular rising in India. However, Bose found the Soviets' response disappointing and was rapidly passed over to the German Ambassador in Moscow, Count von der Schulenburg. He had Bose flown on to Berlin in a special courier aircraft at the beginning of April where he was to receive a more favourable hearing from Joachim von Ribbentrop and the Foreign Ministry officials at the Wilhelmstrasse.\n",
            "\n",
            "In Germany, he was attached to the Special Bureau for India under Adam von Trott zu Solz which was responsible for broadcasting on the German-sponsored Azad Hind Radio. He founded the Free India Center in Berlin, and created the Indian Legion (consisting of some 4500 soldiers) out of Indian prisoners of war who had previously fought for the British in North Africa prior to their capture by Axis forces. The Indian Legion was attached to the Wehrmacht, and later transferred to the Waffen SS. Its members swore the following allegiance to Hitler and Bose: \"I swear by God this holy oath that I will obey the leader of the German race and state, Adolf Hitler, as the commander of the German armed forces in the fight for India, whose leader is Subhas Chandra Bose\". This oath clearly abrogated control of the Indian legion to the German armed forces whilst stating Bose's overall leadership of India. He was also, however, prepared to envisage an invasion of India via the USSR by Nazi troops, spearheaded by the Azad Hind Legion; many have questioned his judgment here, as it seems unlikely that the Germans could have been easily persuaded to leave after such an invasion, which might also have resulted in an Axis victory in the War.\n",
            "\n",
            "Soon, according to historian Romain Hayes, \"the (German) Foreign Office procured a luxurious residence for (Bose) along with a butler, cook, gardener, and an SS-chauffeured car. Emilie Schenkl moved in openly with him. The Germans, aware of the nature of the relationship, refrained from any involvement.\" However, most of the staff in the Special Bureau for India, which had been set up to aid Bose, did not get along with Emilie. In particular Adam von Trott, Alexander Werth and Freda Kretschemer, according to historian Leonard A. Gordon, \"appear to have disliked her intensely. They believed that she and Bose were not married and that she was using her liaison with Bose to live an especially comfortable life during the hard times of war\" and that differences were compounded by issues of class. In November 1942, Schenkl gave birth to their daughter.\n",
            "\n",
            "The Germans were unwilling to form an alliance with Bose because they considered him unpopular in comparison with Mahatma Gandhi and Jawaharlal Nehru. By the spring of 1942, the German army was mired in the USSR. Bose, due to disappointment over the lack of response from Nazi Germany, was now keen to move to Southeast Asia, where Japan had just won quick victories. However, he still expected official recognition from Nazi Germany. Adolf Hitler during his only meeting with Bose in late May 1942 refused to entertain Bose's requests and facilitated him with a submarine voyage to East Asia.\n",
            "\n",
            "In February 1943, Bose left Schenkl and their baby daughter and boarded a German submarine to travel, via transfer to a Japanese submarine, to Japanese-occupied southeast Asia. In all, 3,000 Indian prisoners of war signed up for the Free India Legion. But instead of being delighted, Bose was worried. A left-wing admirer of Russia, he was devastated when Hitler's tanks rolled across the Soviet border. Matters were worsened by the fact that the now-retreating German army would be in no position to offer him help in driving the British from India. When he met Hitler in May 1942, his suspicions were confirmed, and he came to believe that the Nazi leader was more interested in using his men to win propaganda victories than military ones. So, in February 1943, Bose boarded a German U-boat and left for Japan. This left the men he had recruited leaderless and demoralised in Germany.\n",
            "\n",
            "In 1943, after being disillusioned that Germany could be of any help in gaining India's independence, Bose left for Japan. He travelled with the German submarine U-180 around the Cape of Good Hope to the southeast of Madagascar, where he was transferred to the I-29 for the rest of the journey to Imperial Japan. This was the only civilian transfer between two submarines of two different navies in World War II.\n",
            "\n",
            "The Indian National Army (INA) was the brainchild of Japanese Major (and post-war Lieutenant-General) Iwaichi Fujiwara, head of the Japanese intelligence unit Fujiwara Kikan. Fujiwara's mission was \"to raise an army which would fight alongside the Japanese army.\" He first met Pritam Singh Dhillon, the president of the Bangkok chapter of the Indian Independence League, and through Pritam Singh's network recruited a captured British Indian army captain, Mohan Singh, on the western Malayan peninsula in December 1941. The First Indian National Army was formed as a result of discussion between Fujiwara and Mohan Singh in the second half of December 1941, and the name chosen jointly by them in the first week of January 1942.\n",
            "\n",
            "This was along the concept of, and with support of, what was then known as the Indian Independence League headed from Tokyo by expatriate nationalist leader Rash Behari Bose. The first INA was however disbanded in December 1942 after disagreements between the Hikari Kikan and Mohan Singh, who came to believe that the Japanese High Command was using the INA as a mere pawn and propaganda tool. Mohan Singh was taken into custody and the troops returned to the prisoner-of-war camp. However, the idea of an independence army was revived with the arrival of Subhas Chandra Bose in the Far East in 1943. In July, at a meeting in Singapore, Rash Behari Bose handed over control of the organisation to Subhas Chandra Bose. Bose was able to reorganise the fledgling army and organise massive support among the expatriate Indian population in south-east Asia, who lent their support by both enlisting in the Indian National Army, as well as financially in response to Bose's calls for sacrifice for the independence cause. INA had a separate women's unit, the Rani of Jhansi Regiment (named after Rani Lakshmi Bai) headed by Capt. Lakshmi Swaminathan, which is seen as a first of its kind in Asia.\n",
            "\n",
            "Even when faced with military reverses, Bose was able to maintain support for the Azad Hind movement. Spoken as a part of a motivational speech for the Indian National Army at a rally of Indians in Burma on 4 July 1944, Bose's most famous quote was \"Give me blood, and I shall give you freedom!\" In this, he urged the people of India to join him in his fight against the British Raj.[citation needed] Spoken in Hindi, Bose's words are highly evocative. The troops of the INA were under the aegis of a provisional government, the Azad Hind Government, which came to produce its own currency, postage stamps, court and civil code, and was recognised by nine Axis states—Germany, Japan, Italian Social Republic, the Independent State of Croatia, Wang Jingwei regime in Nanjing, China, a provisional government of Burma, Manchukuo and Japanese-controlled Philippines. Of those countries, five were authorities established under Axis occupation. This government participated in the so-called Greater East Asia Conference as an observer in November 1943.\n",
            "\n",
            "The INA's first commitment was in the Japanese thrust towards Eastern Indian frontiers of Manipur. INA's special forces, the Bahadur Group, were involved in operations behind enemy lines both during the diversionary attacks in Arakan, as well as the Japanese thrust towards Imphal and Kohima.\n",
            "\n",
            "The Japanese also took possession of Andaman and Nicobar Islands in 1942 and a year later, the Provisional Government and the INA were established in the Andaman and Nicobar Islands with Lt Col. A.D. Loganathan appointed its Governor General. The islands were renamed Shaheed (Martyr) and Swaraj (Independence). However, the Japanese Navy remained in essential control of the island's administration. During Bose's only visit to the islands in early 1944, apparently in the interest of shielding Bose from attaining a full knowledge of ultimate Japanese intentions, Bose's Japanese hosts carefully isolated him from the local population. At that time the island's Japanese administration had been torturing the leader of the island's Indian Independence League, Diwan Singh, who later died of his injuries in the Cellular Jail. During Bose's visit to the islands several locals attempted to alert Bose to Singh's plight, but apparently without success. During this time Loganathan became aware of his lack of any genuine administrative control and resigned in protest as Governor General, later returning to the Government's headquarters in Rangoon.\n",
            "\n",
            "On the Indian mainland, an Indian Tricolour, modelled after that of the Indian National Congress, was raised for the first time in the town of Moirang, in Manipur, in north-eastern India. The adjacent towns of Kohima and Imphal were then encircled and placed under siege by divisions of the Japanese Army, working in conjunction with the Burmese National Army, and with Brigades of the INA, known as the Gandhi and Nehru Brigades. This attempt at conquering the Indian mainland had the Axis codename of Operation U-Go.[citation needed]\n",
            "\n",
            "During this operation, on 6 July 1944, in a speech broadcast by the Azad Hind Radio from Singapore, Bose addressed Mahatma Gandhi as the \"Father of the Nation\" and asked for his blessings and good wishes for the war he was fighting. This was the first time that Gandhi was referred to by this appellation. The protracted Japanese attempts to take these two towns depleted Japanese resources, with Operation U-Go ultimately proving unsuccessful. Through several months of Japanese onslaught on these two towns, Commonwealth forces remained entrenched in the towns. Commonwealth forces then counter-attacked, inflicting serious losses on the Axis led forces, who were then forced into a retreat back into Burmese territory. After the Japanese defeat at the battles of Kohima and Imphal, Bose's Provisional Government's aim of establishing a base in mainland India was lost forever.[citation needed]\n",
            "\n",
            "Still the INA fought in key battles against the British Indian Army in Burmese territory, notable in Meiktilla, Mandalay, Pegu, Nyangyu and Mount Popa. However, with the fall of Rangoon, Bose's government ceased to be an effective political entity.[citation needed] A large proportion of the INA troops surrendered under Lt Col Loganathan. The remaining troops retreated with Bose towards Malaya or made for Thailand. Japan's surrender at the end of the war also led to the surrender of the remaining elements of the Indian National Army. The INA prisoners were then repatriated to India and some tried for treason.[citation needed]\n",
            "\n",
            "Subhas Chandra Bose's death occurred from third-degree burns on 18 August 1945 after his overloaded Japanese plane crashed in Japanese-ruled Formosa (now Taiwan). However, many among his supporters, especially in Bengal, refused at the time, and have refused since, to believe either the fact or the circumstances of his death. Conspiracy theories appeared within hours of his death and have thereafter had a long shelf life,[am] keeping alive various martial myths about Bose.\n",
            "\n",
            "In Taihoku, at around 2:30 pm as the bomber with Bose on board was leaving the standard path taken by aircraft during take-off, the passengers inside heard a loud sound, similar to an engine backfiring. The mechanics on the tarmac saw something fall out of the plane. It was the portside engine, or a part of it, and the propeller. The plane swung wildly to the right and plummeted, crashing, breaking into two, and exploding into flames. Inside, the chief pilot, copilot and Lieutenant-General Tsunamasa Shidei, the Vice Chief of Staff of the Japanese Kwantung Army, who was to have made the negotiations for Bose with the Soviet army in Manchuria, were instantly killed. Bose's assistant Habibur Rahman was stunned, passing out briefly, and Bose, although conscious and not fatally hurt, was soaked in gasoline. When Rahman came to, he and Bose attempted to leave by the rear door, but found it blocked by the luggage. They then decided to run through the flames and exit from the front. The ground staff, now approaching the plane, saw two people staggering towards them, one of whom had become a human torch. The human torch turned out to be Bose, whose gasoline-soaked clothes had instantly ignited. Rahman and a few others managed to smother the flames, but also noticed that Bose's face and head appeared badly burned. According to Joyce Chapman Lebra, \"A truck which served as ambulance rushed Bose and the other passengers to the Nanmon Military Hospital south of Taihoku.\" The airport personnel called Dr. Taneyoshi Yoshimi, the surgeon-in-charge at the hospital at around 3 pm. Bose was conscious and mostly coherent when they reached the hospital, and for some time thereafter. Bose was naked, except for a blanket wrapped around him, and Dr. Yoshimi immediately saw evidence of third-degree burns on many parts of the body, especially on his chest, doubting very much that he would live. Dr. Yoshimi promptly began to treat Bose and was assisted by Dr. Tsuruta. According to historian Leonard A. Gordon, who interviewed all the hospital personnel later,\n",
            "\n",
            "A disinfectant, Rivamol  [sic], was put over most of his body and then a white ointment was applied and he was bandaged over most of his body. Dr. Yoshimi gave Bose four injections of Vita Camphor and two of Digitamine for his weakened heart. These were given about every 30 minutes. Since his body had lost fluids quickly upon being burnt, he was also given Ringer solution intravenously. A third doctor, Dr. Ishii gave him a blood transfusion. An orderly, Kazuo Mitsui, an army private, was in the room and several nurses were also assisting. Bose still had a clear head which Dr. Yoshimi found remarkable for someone with such severe injuries.\n",
            "Soon, in spite of the treatment, Bose went into a coma. A few hours later, between 9 and 10 pm (local time) on Saturday, 18 August 1945, Bose died aged 48.\n",
            "\n",
            "Bose's body was cremated in the main Taihoku crematorium two days later, 20 August 1945. On 23 August 1945, the Japanese news agency Do Trzei announced the death of Bose and Shidea. On 7 September a Japanese officer, Lieutenant Tatsuo Hayashida, carried Bose's ashes to Tokyo, and the following morning they were handed to the president of the Tokyo Indian Independence League, Rama Murti. On 14 September a memorial service was held for Bose in Tokyo and a few days later the ashes were turned over to the priest of the Renkōji Temple of Nichiren Buddhism in Tokyo. There they have remained ever since.\n",
            "\n",
            "Among the INA personnel, there was widespread disbelief, shock, and trauma. Most affected were the young Tamil Indians from Malaya and Singapore, both men and women, who comprised the bulk of the civilians who had enlisted in the INA. The professional soldiers in the INA, most of whom were Punjabis, faced an uncertain future, with many fatalistically expecting reprisals from the British. In India the Indian National Congress's official line was succinctly expressed in a letter Mohandas Karamchand (Mahatma) Gandhi wrote to Rajkumari Amrit Kaur. Said Gandhi, \"Subhas Bose has died well. He was undoubtedly a patriot, though misguided.\" Many congressmen had not forgiven Bose for quarrelling with Gandhi and for collaborating with what they considered was Japanese fascism. The Indian soldiers in the British Indian army, some two and a half million of whom had fought during the Second World War, were conflicted about the INA. Some saw the INA as traitors and wanted them punished; others felt more sympathetic. The British Raj, though never seriously threatened by the INA, tried 300 INA officers for treason in the INA trials, but eventually backtracked.\n",
            "\n",
            "Subhas Chandra Bose believed that the Bhagavad Gita was a great source of inspiration for the struggle against the British. Swami Vivekananda's teachings on universalism, his nationalist thoughts and his emphasis on social service and reform had all inspired Subhas Chandra Bose from his very young days. The fresh interpretation of India's ancient scriptures had appealed immensely to him. Some scholars think that Hindu spirituality formed an essential part of his political and social thought. As historian Leonard Gordon explains \"Inner religious explorations continued to be a part of his adult life. This set him apart from the slowly growing number of atheistic socialists and communists who dotted the Indian landscape.\"\n",
            "\n",
            "Bose first expressed his preference for \"a synthesis of what modern Europe calls socialism and fascism\" in a 1930 speech in Calcutta.\n",
            "Bose later criticized Nehru's 1933 statement that there is \"no middle road\" between communism and fascism, describing it as \"fundamentally wrong\". Bose believed communism would not gain ground in India due to its rejection of nationalism and religion and suggested a \"synthesis between communism and fascism\" could take hold instead. In 1944, Bose similarly stated, \"Our philosophy should be a synthesis between National Socialism and communism.\"\n",
            "\n",
            "Bose believed that authoritarianism could bring liberation and reconstruction of Indian society. He expressed admiration for the authoritarian methods which he saw in Italy and Germany during the 1930s; he thought they could be used to build an independent India.\n",
            "\n",
            "To a large number of Congress leaders, Bose programme shared enough similarities with Japanese fascists. After getting marginalized within Congress, Bose chose to embrace fascist regimes as allies against the British and fled India. Bose believed that India \"must have a political system—State—of an authoritarian character,\" and \"a strong central government with dictatorial powers for some years to come\".\n",
            "\n",
            "Earlier, Bose had clearly expressed his belief that democracy was the best option for India. However, during the war (and possibly as early as the 1930s), Bose seems to have decided that no democratic system could be adequate to overcome India's poverty and social inequalities, and he wrote that a socialist state similar to that of Soviet Russia (which he had also seen and admired) would be needed for the process of national re-building.[an] Accordingly, some suggest that Bose's alliance with the Axis during the war was based on more than just pragmatism and that Bose was a militant nationalist, though not a Nazi nor a Fascist, for he supported the empowerment of women, secularism and other liberal ideas; alternatively, others consider he might have been using populist methods of mobilisation common to many post-colonial leaders.\n",
            "\n",
            "Since before the beginning of the World War II, Bose was opposed to the attempts to grant Jewish refugees asylum in India. The great anti-Jewish pogrom called \"the Night of Broken Glass\" happened on 9 November 1938. In early December, the pro-Hindu Mahasabha journals published articles lending support to German anti-Semitism. This stance brought Hindu Mahasabha into conflict with the Congress which, on 12 December, issued statement containing references to recent European events. Within the Congress, only Bose opposed this stance of the party. After some months in April 1939, Bose refused to support the party motion that Jews can find refuge in India.\n",
            "\n",
            "In 1938, Bose had denounced Nazi racial policy and persecution of Jews. However, in 1942 he had published an article in the journal Angriff, where he wrote that Indians were true Aryans and the 'brethren' of the Germans. Bose added that Swastika (symbol of Nazi Germany) was an ancient Indian symbol. Bose urged that anti-Semitism should be part of Indian liberation movement because the Jews assisted the British to exploit Indians. The Jewish Chronicle had condemned Bose as \"India's anti-Jewish Quisling\" over this article.\n",
            "\n",
            "Roman Hayes describes the troubled legacy of Bose with atrocities related to Jews in the following words:–\n",
            "\n",
            "\"The most troubling aspect of Bose's presence in Nazi Germany is not military or political but rather ethical. His alliance with the most genocidal regime in history poses serious dilemmas precisely because of his popularity and his having made a lifelong career of fighting the 'good cause'. How did a man who started his political career at the feet of Gandhi end up with Hitler, Mussolini, and Tojo? Even in the case of Mussolini and Tojo, the gravity of the dilemma pales in comparison to that posed by his association with Hitler and the Nazi leadership. The most disturbing issue, all too often ignored, is that in the many articles, minutes, memorandums, telegrams, letters, plans, and broadcasts Bose left behind in Germany, he did not express the slightest concern or sympathy for the millions who died in the concentration camps. Not one of his Berlin wartime associates or colleagues ever quotes him expressing any indignation. Not even when the horrors of Auschwitz and its satellite camps were exposed to the world upon being liberated by Soviet troops in early 1945, revealing publicly for the first time the genocidal nature of the Nazi regime, did Bose react.\"\n",
            "His most famous quote was \"Give me blood and I will give you freedom\". Another famous quote was Dilli Chalo (\"On to Delhi)!\" This was the call he used to give the INA armies to motivate them. Another slogan coined by him was \"Ittehad, Etemad, Qurbani\" (Urdu for \"Unity, Agreement, Sacrifice\"). \n",
            "\n",
            "Bose' defiance of British authority in India made him a hero among many Indians,[ao][ap][aq] however his wartime alliances with Nazi Germany and Imperial Japan left a legacy fraught with authoritarianism, anti-Semitism, and military failure.[ar][as][at]\n",
            "\n",
            "Bose was featured on the stamps in India from 1964, 1993, 1997, 2001, 2016, 2018 and 2021. Bose was also featured in ₹2 coins in 1996 and 1997, ₹75 coin in 2018 and ₹125 coin in 2021. Netaji Subhas Chandra Bose International Airport at Kolkata, West Bengal, Netaji Subhas Chandra Bose Gomoh railway station at Gomoh, Jharkhand, Netaji Express, a train runs between Howrah and Kalka, Cuttack Netaji Bus Terminal at Cuttack, Odisha, Netaji Bhavan metro station and Netaji metro station at Kolkata, West Bengal and Netaji Subhash Place metro station at Delhi. Netaji Subhash Chandra Bose Island at Andaman and Nicobar Island, Netaji Subhas Chandra Bose Setu (Longest bridge of Odisha) at Cuttack, Odisha and many other institutions in India are named after him. On 23 August 2007, Japanese Prime Minister, Shinzō Abe visited the Netaji Bhawan in Kolkata. Abe, who is also the recipient of Netaji Award 2022, said to Bose's family \"The Japanese are deeply moved by Bose's strong will to have led the Indian independence movement from British rule. Netaji is a much respected name in Japan.\"\n",
            "\n",
            "In 2021, the Government of India declared 23 January as Parakram Divas to commemorate the birth anniversary of Subhas Chandra Bose. In 2019, the Government of India inaugurated a museum on Netaji Subhash Chandra Bose and his INA at Red Fort, New Delhi. In 2022, Government of India inaugurated a Statue of Netaji Subhas Chandra Bose at India Gate. Also in the same year, Government of India started a official award Subhas Chandra Bose Aapda Prabandhan Puraskar, for those who does excellent work in Disaster management.\n",
            "\n",
            "\n"
          ]
        }
      ]
    },
    {
      "cell_type": "markdown",
      "source": [
        "## **Total Words present in the Corpus**"
      ],
      "metadata": {
        "id": "8Xyi_6n_PHTj"
      }
    },
    {
      "cell_type": "code",
      "source": [
        "words=corpus.split(' ')\n",
        "w=len(words)"
      ],
      "metadata": {
        "id": "xBBT3H1xPG1G"
      },
      "execution_count": 108,
      "outputs": []
    },
    {
      "cell_type": "code",
      "source": [
        "w"
      ],
      "metadata": {
        "colab": {
          "base_uri": "https://localhost:8080/"
        },
        "id": "VpvJGuqoXlt-",
        "outputId": "71ff3397-b6d9-42ef-c946-3ddd10a52f2e"
      },
      "execution_count": 109,
      "outputs": [
        {
          "output_type": "execute_result",
          "data": {
            "text/plain": [
              "7598"
            ]
          },
          "metadata": {},
          "execution_count": 109
        }
      ]
    },
    {
      "cell_type": "code",
      "source": [
        "words[0:5]"
      ],
      "metadata": {
        "colab": {
          "base_uri": "https://localhost:8080/"
        },
        "id": "lavq88U9O-h5",
        "outputId": "20a63d1d-b124-4f44-ab39-73e3be54ef91"
      },
      "execution_count": 100,
      "outputs": [
        {
          "output_type": "execute_result",
          "data": {
            "text/plain": [
              "['\\n\\nSubhas', 'Chandra', 'Bose', '(/ʃʊbˈhɑːs', 'ˈtʃʌndrə']"
            ]
          },
          "metadata": {},
          "execution_count": 100
        }
      ]
    },
    {
      "cell_type": "markdown",
      "source": [
        "## **Number of Sentences in the Corpus**"
      ],
      "metadata": {
        "id": "ZWayGry8PjS9"
      }
    },
    {
      "cell_type": "code",
      "source": [
        "sentence =corpus.split('.')\n",
        "s=len(sentence)"
      ],
      "metadata": {
        "id": "f6Af8sCLPiur"
      },
      "execution_count": 107,
      "outputs": []
    },
    {
      "cell_type": "code",
      "source": [
        "s"
      ],
      "metadata": {
        "colab": {
          "base_uri": "https://localhost:8080/"
        },
        "id": "ue54xZH2XmzZ",
        "outputId": "b65ada46-1405-469a-af5d-59321d154e10"
      },
      "execution_count": 110,
      "outputs": [
        {
          "output_type": "execute_result",
          "data": {
            "text/plain": [
              "380"
            ]
          },
          "metadata": {},
          "execution_count": 110
        }
      ]
    },
    {
      "cell_type": "code",
      "source": [
        "sentence[0]"
      ],
      "metadata": {
        "colab": {
          "base_uri": "https://localhost:8080/",
          "height": 104
        },
        "id": "R7AmND4APZUA",
        "outputId": "695fdd07-c2a7-4817-f2a7-1e9ac0d763e1"
      },
      "execution_count": 102,
      "outputs": [
        {
          "output_type": "execute_result",
          "data": {
            "text/plain": [
              "'\\n\\nSubhas Chandra Bose (/ʃʊbˈhɑːs ˈtʃʌndrə ˈboʊs/ ⓘ shuub-HAHSS CHUN-drə BOHSS; 23 January 1897\\xa0– 18 August 1945) was an Indian nationalist whose defiance of British authority in India made him a hero among many Indians, but his wartime alliances with Nazi Germany and Imperial Japan left a legacy vexed by authoritarianism, anti-Semitism, and military failure'"
            ],
            "application/vnd.google.colaboratory.intrinsic+json": {
              "type": "string"
            }
          },
          "metadata": {},
          "execution_count": 102
        }
      ]
    },
    {
      "cell_type": "markdown",
      "source": [
        "## ** Number of Paragraphs in the Corpus**"
      ],
      "metadata": {
        "id": "4LEO0iKPP_t_"
      }
    },
    {
      "cell_type": "code",
      "source": [
        "p=corpus.split('\\n')\n",
        "p=len(p)"
      ],
      "metadata": {
        "id": "7EQHK3eSPw6T"
      },
      "execution_count": 111,
      "outputs": []
    },
    {
      "cell_type": "code",
      "source": [
        "p"
      ],
      "metadata": {
        "colab": {
          "base_uri": "https://localhost:8080/"
        },
        "id": "tY2PsmmkXqJR",
        "outputId": "e95686a8-f9bd-46d1-b140-da18e1ba06be"
      },
      "execution_count": 112,
      "outputs": [
        {
          "output_type": "execute_result",
          "data": {
            "text/plain": [
              "125"
            ]
          },
          "metadata": {},
          "execution_count": 112
        }
      ]
    }
  ]
}